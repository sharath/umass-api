{
 "cells": [
  {
   "cell_type": "code",
   "execution_count": 1,
   "metadata": {
    "collapsed": true
   },
   "outputs": [],
   "source": [
    "from bs4 import BeautifulSoup\n",
    "import urllib.request as urllib2\n",
    "import re\n",
    "import json\n",
    "from collections import defaultdict"
   ]
  },
  {
   "cell_type": "code",
   "execution_count": 2,
   "metadata": {
    "collapsed": true
   },
   "outputs": [],
   "source": [
    "base = \"https://cesd3.oit.umass.edu/undergradguide/2017-2018/\"\n",
    "info = \"Page12331.html\"\n",
    "courseinfo = urllib2.urlopen (base+info).read()"
   ]
  },
  {
   "cell_type": "code",
   "execution_count": 3,
   "metadata": {
    "collapsed": true
   },
   "outputs": [],
   "source": [
    "soup = BeautifulSoup(courseinfo, \"lxml\")"
   ]
  },
  {
   "cell_type": "code",
   "execution_count": 4,
   "metadata": {
    "collapsed": true
   },
   "outputs": [],
   "source": [
    "majors = []\n",
    "for li in soup.find_all('li'):\n",
    "    c = li.get('class')\n",
    "    if c is not None:\n",
    "        if c[0] == \"catalognavigationmenu-chapter\":\n",
    "            majors.append((li.a.contents[0],li.a.get('href')))"
   ]
  },
  {
   "cell_type": "code",
   "execution_count": 5,
   "metadata": {
    "collapsed": true
   },
   "outputs": [],
   "source": [
    "ml = []\n",
    "for m, u in majors:\n",
    "    major = urllib2.urlopen (base+u).read()\n",
    "    ml.append((m, BeautifulSoup(major, \"lxml\")))"
   ]
  },
  {
   "cell_type": "code",
   "execution_count": 6,
   "metadata": {
    "collapsed": true
   },
   "outputs": [],
   "source": [
    "courses = []\n",
    "for m, s in ml:\n",
    "    for li in s.find_all('li'):\n",
    "        if li.get('class') is not None:\n",
    "            if li.get('class')[0] == \"catalognavigationmenu-topicgroup\":\n",
    "                if li.a.contents[0] == \"The Courses\":\n",
    "                    courses.append((m, li.a.get('href')))"
   ]
  },
  {
   "cell_type": "code",
   "execution_count": 7,
   "metadata": {
    "collapsed": true
   },
   "outputs": [],
   "source": [
    "mc = []\n",
    "for m, u in courses:\n",
    "    courses = urllib2.urlopen (base+u).read()\n",
    "    mc.append((m, BeautifulSoup(courses, \"lxml\")))"
   ]
  },
  {
   "cell_type": "code",
   "execution_count": 8,
   "metadata": {
    "collapsed": true,
    "scrolled": false
   },
   "outputs": [],
   "source": [
    "classes = defaultdict(lambda: [])\n",
    "for m, s in mc:\n",
    "    temp = []\n",
    "    for strong in s.find_all('strong'):\n",
    "        n = re.findall(r\"((^|\\s)[0-9][0-9][0-9]\\s)|([0-9][0-9][0-9][A-Z|a-z]+(\\s|$))|([0-9][0-9][0-9][A-Z|a-z]+[0-9])\", strong.text)\n",
    "        for c in n:\n",
    "            for j in c:\n",
    "                if j != '\\n' and j != '':\n",
    "                    temp.append(j.rstrip('\\n').rstrip(' ').rstrip('\\xa0'))\n",
    "    for t in temp:\n",
    "        if len(t) > 1:\n",
    "            classes[m].append(t.strip())"
   ]
  },
  {
   "cell_type": "code",
   "execution_count": 9,
   "metadata": {},
   "outputs": [],
   "source": [
    "r = json.dumps(classes)\n",
    "js = json.loads(r)\n",
    "with open('fetched.json', 'w') as outfile:\n",
    "    json.dump(js, outfile)"
   ]
  },
  {
   "cell_type": "code",
   "execution_count": null,
   "metadata": {
    "collapsed": true
   },
   "outputs": [],
   "source": []
  }
 ],
 "metadata": {
  "kernelspec": {
   "display_name": "Python 3",
   "language": "python",
   "name": "python3"
  },
  "language_info": {
   "codemirror_mode": {
    "name": "ipython",
    "version": 3
   },
   "file_extension": ".py",
   "mimetype": "text/x-python",
   "name": "python",
   "nbconvert_exporter": "python",
   "pygments_lexer": "ipython3",
   "version": "3.6.3"
  }
 },
 "nbformat": 4,
 "nbformat_minor": 2
}
