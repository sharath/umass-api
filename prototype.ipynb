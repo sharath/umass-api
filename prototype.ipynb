{
 "cells": [
  {
   "cell_type": "code",
   "execution_count": 1,
   "metadata": {
    "collapsed": true
   },
   "outputs": [],
   "source": [
    "from bs4 import BeautifulSoup\n",
    "import urllib.request as urllib2\n",
    "import re\n",
    "import json\n",
    "from collections import defaultdict"
   ]
  },
  {
   "cell_type": "code",
   "execution_count": 2,
   "metadata": {
    "collapsed": true
   },
   "outputs": [],
   "source": [
    "base = \"https://cesd3.oit.umass.edu/undergradguide/2017-2018/\"\n",
    "info = \"Page12331.html\"\n",
    "courseinfo = urllib2.urlopen (base+info).read()"
   ]
  },
  {
   "cell_type": "code",
   "execution_count": 3,
   "metadata": {
    "collapsed": true
   },
   "outputs": [],
   "source": [
    "soup = BeautifulSoup(courseinfo, \"lxml\")"
   ]
  },
  {
   "cell_type": "code",
   "execution_count": 4,
   "metadata": {
    "collapsed": true
   },
   "outputs": [],
   "source": [
    "majors = []\n",
    "for li in soup.find_all('li'):\n",
    "    c = li.get('class')\n",
    "    if c is not None:\n",
    "        if c[0] == \"catalognavigationmenu-chapter\":\n",
    "            majors.append((li.a.contents[0],li.a.get('href')))"
   ]
  },
  {
   "cell_type": "code",
   "execution_count": 5,
   "metadata": {
    "collapsed": true
   },
   "outputs": [],
   "source": [
    "ml = []\n",
    "for m, u in majors:\n",
    "    major = urllib2.urlopen (base+u).read()\n",
    "    ml.append((m, BeautifulSoup(major, \"lxml\")))"
   ]
  },
  {
   "cell_type": "code",
   "execution_count": 6,
   "metadata": {
    "collapsed": true
   },
   "outputs": [],
   "source": [
    "courses = []\n",
    "for m, s in ml:\n",
    "    for li in s.find_all('li'):\n",
    "        if li.get('class') is not None:\n",
    "            if li.get('class')[0] == \"catalognavigationmenu-topicgroup\":\n",
    "                if li.a.contents[0] == \"The Courses\":\n",
    "                    courses.append((m, li.a.get('href')))"
   ]
  },
  {
   "cell_type": "code",
   "execution_count": 7,
   "metadata": {
    "collapsed": true
   },
   "outputs": [],
   "source": [
    "mc = []\n",
    "for m, u in courses:\n",
    "    courses = urllib2.urlopen (base+u).read()\n",
    "    mc.append((m, BeautifulSoup(courses, \"lxml\")))"
   ]
  },
  {
   "cell_type": "code",
   "execution_count": 64,
   "metadata": {
    "scrolled": false
   },
   "outputs": [],
   "source": [
    "classes = defaultdict(lambda: [])\n",
    "for m, s in mc:\n",
    "    temp = []\n",
    "    for strong in s.find_all('strong'):\n",
    "        #print(strong.text)\n",
    "        n = re.findall(r\"((^|\\s)[0-9][0-9][0-9]\\s)|([0-9][0-9][0-9][A-Z|a-z]+(\\s|$))|([0-9][0-9][0-9][A-Z|a-z]+[0-9])\", strong.text)\n",
    "        for c in n:\n",
    "            for j in c:\n",
    "                if j != '\\n' and j != '':\n",
    "                    temp.append(j.rstrip('\\n').rstrip(' ').rstrip('\\xa0'))\n",
    "    for t in temp:\n",
    "        if len(t) > 1:\n",
    "            classes[m].append(t)"
   ]
  },
  {
   "cell_type": "code",
   "execution_count": 65,
   "metadata": {},
   "outputs": [
    {
     "data": {
      "text/plain": [
       "['100',\n",
       " ' 101',\n",
       " ' 110',\n",
       " ' 111',\n",
       " ' 112',\n",
       " ' 114',\n",
       " ' 115',\n",
       " '120',\n",
       " '121',\n",
       " '130',\n",
       " '131',\n",
       " '140',\n",
       " '141',\n",
       " '150',\n",
       " '151',\n",
       " '154',\n",
       " '960s',\n",
       " '160',\n",
       " '161',\n",
       " '170',\n",
       " '180',\n",
       " '181',\n",
       " '181',\n",
       " '190S',\n",
       " '200',\n",
       " '241',\n",
       " '242',\n",
       " '247',\n",
       " '250',\n",
       " '253',\n",
       " '254',\n",
       " '260',\n",
       " '269',\n",
       " '280',\n",
       " '297',\n",
       " '298Y',\n",
       " '300',\n",
       " '301',\n",
       " '302',\n",
       " '303',\n",
       " '305',\n",
       " '308',\n",
       " ' 315',\n",
       " ' 316',\n",
       " ' 317',\n",
       " ' 322',\n",
       " ' 323',\n",
       " ' 325',\n",
       " ' 330',\n",
       " ' 332',\n",
       " ' 343',\n",
       " ' 345',\n",
       " ' 346',\n",
       " ' 354',\n",
       " ' 355',\n",
       " ' 359',\n",
       " ' 360',\n",
       " ' 361',\n",
       " ' 362',\n",
       " ' 363',\n",
       " '365',\n",
       " ' 369',\n",
       " ' 370',\n",
       " ' 372',\n",
       " ' 373',\n",
       " ' 374',\n",
       " ' 375',\n",
       " ' 379',\n",
       " ' 381',\n",
       " ' 383',\n",
       " ' 386',\n",
       " ' 387',\n",
       " ' 388',\n",
       " ' 389',\n",
       " '397s',\n",
       " '394s',\n",
       " '398A',\n",
       " '400',\n",
       " '425',\n",
       " '450',\n",
       " '497s',\n",
       " '450',\n",
       " '499s']"
      ]
     },
     "execution_count": 65,
     "metadata": {},
     "output_type": "execute_result"
    }
   ],
   "source": [
    "r = json.dumps(classes)\n",
    "loaded_r = json.loads(r)\n",
    "loaded_r['History']"
   ]
  },
  {
   "cell_type": "code",
   "execution_count": null,
   "metadata": {
    "collapsed": true
   },
   "outputs": [],
   "source": []
  },
  {
   "cell_type": "code",
   "execution_count": null,
   "metadata": {
    "collapsed": true
   },
   "outputs": [],
   "source": []
  }
 ],
 "metadata": {
  "kernelspec": {
   "display_name": "Python 3",
   "language": "python",
   "name": "python3"
  },
  "language_info": {
   "codemirror_mode": {
    "name": "ipython",
    "version": 3
   },
   "file_extension": ".py",
   "mimetype": "text/x-python",
   "name": "python",
   "nbconvert_exporter": "python",
   "pygments_lexer": "ipython3",
   "version": "3.6.3"
  }
 },
 "nbformat": 4,
 "nbformat_minor": 2
}
