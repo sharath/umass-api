{
 "cells": [
  {
   "cell_type": "code",
   "execution_count": 81,
   "metadata": {},
   "outputs": [],
   "source": [
    "from bs4 import BeautifulSoup\n",
    "import urllib.request as urllib2\n",
    "import re\n",
    "import json\n",
    "from collections import defaultdict"
   ]
  },
  {
   "cell_type": "code",
   "execution_count": 82,
   "metadata": {},
   "outputs": [],
   "source": [
    "base = \"https://cesd3.oit.umass.edu/undergradguide/2017-2018/\"\n",
    "info = \"Page12331.html\"\n",
    "courseinfo = urllib2.urlopen (base+info).read()"
   ]
  },
  {
   "cell_type": "code",
   "execution_count": 83,
   "metadata": {},
   "outputs": [],
   "source": [
    "soup = BeautifulSoup(courseinfo, \"lxml\")"
   ]
  },
  {
   "cell_type": "code",
   "execution_count": 84,
   "metadata": {},
   "outputs": [],
   "source": [
    "majors = []\n",
    "for li in soup.find_all('li'):\n",
    "    c = li.get('class')\n",
    "    if c is not None:\n",
    "        if c[0] == \"catalognavigationmenu-chapter\":\n",
    "            majors.append((li.a.contents[0],li.a.get('href')))"
   ]
  },
  {
   "cell_type": "code",
   "execution_count": 85,
   "metadata": {},
   "outputs": [],
   "source": [
    "ml = []\n",
    "for m, u in majors:\n",
    "    major = urllib2.urlopen (base+u).read()\n",
    "    ml.append((m, BeautifulSoup(major, \"lxml\")))"
   ]
  },
  {
   "cell_type": "code",
   "execution_count": 86,
   "metadata": {},
   "outputs": [],
   "source": [
    "# <li class=\"catalognavigationmenu-topicgroup\"><a id=\"ctl00_ctl00_mainLayoutContent_navigationMenu_menuItem_TPG_12417\" href=\"Page12417.html\">The Courses</a></li></ul>\n",
    "courses = []\n",
    "for m, s in ml:\n",
    "    for li in s.find_all('li'):\n",
    "        if li.get('class') is not None:\n",
    "            if li.get('class')[0] == \"catalognavigationmenu-topicgroup\":\n",
    "                if li.a.contents[0] == \"The Courses\":\n",
    "                    courses.append((m, li.a.get('href')))"
   ]
  },
  {
   "cell_type": "code",
   "execution_count": 87,
   "metadata": {},
   "outputs": [],
   "source": [
    "mc = []\n",
    "for m, u in courses:\n",
    "    courses = urllib2.urlopen (base+u).read()\n",
    "    mc.append((m, BeautifulSoup(courses, \"lxml\")))"
   ]
  },
  {
   "cell_type": "code",
   "execution_count": 88,
   "metadata": {
    "scrolled": false
   },
   "outputs": [],
   "source": [
    "classes = defaultdict(lambda: [])\n",
    "for m, s in mc:\n",
    "    for strong in s.find_all('strong'):\n",
    "        #print(strong.text)\n",
    "        n = re.findall(r\"\\d{3}\", strong.text)\n",
    "        for c in n:\n",
    "            classes[m].append(n)"
   ]
  },
  {
   "cell_type": "code",
   "execution_count": 90,
   "metadata": {},
   "outputs": [
    {
     "data": {
      "text/plain": [
       "[['105'],\n",
       " ['119'],\n",
       " ['120'],\n",
       " ['121'],\n",
       " ['145'],\n",
       " ['187'],\n",
       " ['190'],\n",
       " ['220'],\n",
       " ['230'],\n",
       " ['240'],\n",
       " ['250'],\n",
       " ['305'],\n",
       " ['311'],\n",
       " ['320'],\n",
       " ['325'],\n",
       " ['326'],\n",
       " ['328'],\n",
       " ['328'],\n",
       " ['335'],\n",
       " ['335'],\n",
       " ['345'],\n",
       " ['345'],\n",
       " ['348'],\n",
       " ['365'],\n",
       " ['370'],\n",
       " ['373'],\n",
       " ['377'],\n",
       " ['383'],\n",
       " ['390'],\n",
       " ['391'],\n",
       " ['403'],\n",
       " ['410'],\n",
       " ['445'],\n",
       " ['446'],\n",
       " ['453'],\n",
       " ['460'],\n",
       " ['474'],\n",
       " ['491'],\n",
       " ['491'],\n",
       " ['501'],\n",
       " ['503'],\n",
       " ['513'],\n",
       " ['520'],\n",
       " ['527'],\n",
       " ['527'],\n",
       " ['529'],\n",
       " ['535'],\n",
       " ['575'],\n",
       " ['585'],\n",
       " ['589'],\n",
       " ['590'],\n",
       " ['590'],\n",
       " ['590'],\n",
       " ['590'],\n",
       " ['590'],\n",
       " ['590'],\n",
       " ['590'],\n",
       " ['590'],\n",
       " ['101'],\n",
       " ['101'],\n",
       " ['150'],\n",
       " ['203'],\n",
       " ['203']]"
      ]
     },
     "execution_count": 90,
     "metadata": {},
     "output_type": "execute_result"
    }
   ],
   "source": [
    "r = json.dumps(classes)\n",
    "loaded_r = json.loads(r)\n",
    "loaded_r['Computer Science']"
   ]
  },
  {
   "cell_type": "code",
   "execution_count": null,
   "metadata": {
    "collapsed": true
   },
   "outputs": [],
   "source": []
  }
 ],
 "metadata": {
  "kernelspec": {
   "display_name": "Python 3",
   "language": "python",
   "name": "python3"
  },
  "language_info": {
   "codemirror_mode": {
    "name": "ipython",
    "version": 3
   },
   "file_extension": ".py",
   "mimetype": "text/x-python",
   "name": "python",
   "nbconvert_exporter": "python",
   "pygments_lexer": "ipython3",
   "version": "3.6.3"
  }
 },
 "nbformat": 4,
 "nbformat_minor": 2
}
